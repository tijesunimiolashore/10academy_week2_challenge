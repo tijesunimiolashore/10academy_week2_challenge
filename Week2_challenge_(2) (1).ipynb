{
  "nbformat": 4,
  "nbformat_minor": 0,
  "metadata": {
    "colab": {
      "name": "Week2_challenge_(2).ipynb",
      "provenance": [],
      "collapsed_sections": []
    },
    "kernelspec": {
      "name": "python3",
      "display_name": "Python 3"
    }
  },
  "cells": [
    {
      "cell_type": "code",
      "metadata": {
        "id": "6Hpe9ldIN9wS",
        "colab_type": "code",
        "colab": {
          "base_uri": "https://localhost:8080/",
          "height": 336
        },
        "outputId": "cfa6c8ac-aa57-4ee9-e634-26b262221cbe"
      },
      "source": [
        "#Better\n",
        "!pip install requests BeautifulSoup4 fire"
      ],
      "execution_count": 1,
      "outputs": [
        {
          "output_type": "stream",
          "text": [
            "Requirement already satisfied: requests in /usr/local/lib/python3.6/dist-packages (2.23.0)\n",
            "Requirement already satisfied: BeautifulSoup4 in /usr/local/lib/python3.6/dist-packages (4.6.3)\n",
            "Collecting fire\n",
            "\u001b[?25l  Downloading https://files.pythonhosted.org/packages/34/a7/0e22e70778aca01a52b9c899d9c145c6396d7b613719cd63db97ffa13f2f/fire-0.3.1.tar.gz (81kB)\n",
            "\u001b[K     |████████████████████████████████| 81kB 2.1MB/s \n",
            "\u001b[?25hRequirement already satisfied: idna<3,>=2.5 in /usr/local/lib/python3.6/dist-packages (from requests) (2.10)\n",
            "Requirement already satisfied: chardet<4,>=3.0.2 in /usr/local/lib/python3.6/dist-packages (from requests) (3.0.4)\n",
            "Requirement already satisfied: certifi>=2017.4.17 in /usr/local/lib/python3.6/dist-packages (from requests) (2020.6.20)\n",
            "Requirement already satisfied: urllib3!=1.25.0,!=1.25.1,<1.26,>=1.21.1 in /usr/local/lib/python3.6/dist-packages (from requests) (1.24.3)\n",
            "Requirement already satisfied: six in /usr/local/lib/python3.6/dist-packages (from fire) (1.15.0)\n",
            "Requirement already satisfied: termcolor in /usr/local/lib/python3.6/dist-packages (from fire) (1.1.0)\n",
            "Building wheels for collected packages: fire\n",
            "  Building wheel for fire (setup.py) ... \u001b[?25l\u001b[?25hdone\n",
            "  Created wheel for fire: filename=fire-0.3.1-py2.py3-none-any.whl size=111005 sha256=1a23d2e3e9b665ff5124f20181d40485be7daa6ddddcf05d79924224f0796fbc\n",
            "  Stored in directory: /root/.cache/pip/wheels/c1/61/df/768b03527bf006b546dce284eb4249b185669e65afc5fbb2ac\n",
            "Successfully built fire\n",
            "Installing collected packages: fire\n",
            "Successfully installed fire-0.3.1\n"
          ],
          "name": "stdout"
        }
      ]
    },
    {
      "cell_type": "code",
      "metadata": {
        "id": "JlvDDnl2OFLi",
        "colab_type": "code",
        "colab": {}
      },
      "source": [
        "from requests import get\n",
        "from requests.exceptions import RequestException\n",
        "from contextlib import closing\n",
        "from bs4 import BeautifulSoup\n",
        "import pandas as pd\n",
        "import os, sys\n",
        "\n",
        "import fire"
      ],
      "execution_count": 2,
      "outputs": []
    },
    {
      "cell_type": "code",
      "metadata": {
        "id": "h-Mgj_LDOKXy",
        "colab_type": "code",
        "colab": {}
      },
      "source": [
        "#%%writefile ../pyscrap_url.py\n",
        "\n",
        "def simple_get(url):\n",
        "    \"\"\"\n",
        "    Attempts to get the content at `url` by making an HTTP GET request.\n",
        "    If the content-type of response is some kind of HTML/XML, return the\n",
        "    text content, otherwise return None.\n",
        "    \"\"\"\n",
        "    try:\n",
        "        with closing(get(url, stream=True)) as resp:\n",
        "            if is_good_response(resp):\n",
        "                return resp.content  #.encode(BeautifulSoup.original_encoding)\n",
        "            else:\n",
        "                return None\n",
        "\n",
        "    except RequestException as e:\n",
        "        log_error('Error during requests to {0} : {1}'.format(url, str(e)))\n",
        "        return None\n",
        "\n",
        "\n",
        "def is_good_response(resp):\n",
        "    \"\"\"\n",
        "    Returns True if the response seems to be HTML, False otherwise.\n",
        "    \"\"\"\n",
        "    content_type = resp.headers['Content-Type'].lower()\n",
        "    return (resp.status_code == 200 \n",
        "            and content_type is not None \n",
        "            and content_type.find('html') > -1)\n",
        "\n",
        "\n",
        "def log_error(e):\n",
        "    \"\"\"\n",
        "    It is always a good idea to log errors. \n",
        "    This function just prints them, but you can\n",
        "    make it do anything.\n",
        "    \"\"\"\n",
        "    print(e)\n",
        "    \n",
        "def get_elements(url, tag='',search={}, fname=None):\n",
        "    \"\"\"\n",
        "    Downloads a page specified by the url parameter\n",
        "    and returns a list of strings, one per tag element\n",
        "    \"\"\"\n",
        "    \n",
        "    if isinstance(url,str):\n",
        "        response = simple_get(url)\n",
        "    else:\n",
        "        #if already it is a loaded html page\n",
        "        response = url\n",
        "\n",
        "    if response is not None:\n",
        "        html = BeautifulSoup(response, 'html.parser')\n",
        "        \n",
        "        res = []\n",
        "        if tag:    \n",
        "            for li in html.select(tag):\n",
        "                for name in li.text.split('\\n'):\n",
        "                    if len(name) > 0:\n",
        "                        res.append(name.strip())\n",
        "                       \n",
        "                \n",
        "        if search:\n",
        "            soup = html            \n",
        "            \n",
        "            \n",
        "            r = ''\n",
        "            if 'find' in search.keys():\n",
        "                print('findaing',search['find'])\n",
        "                soup = soup.find(**search['find'])\n",
        "                r = soup\n",
        "\n",
        "                \n",
        "            if 'find_all' in search.keys():\n",
        "                print('findaing all of',search['find_all'])\n",
        "                r = soup.find_all(**search['find_all'])\n",
        "   \n",
        "            if r:\n",
        "                for x in list(r):\n",
        "                    if len(x) > 0:\n",
        "                        res.extend(x)\n",
        "            \n",
        "        return res\n",
        "\n",
        "    # Raise an exception if we failed to get any data from the url\n",
        "    raise Exception('Error retrieving contents at {}'.format(url))    \n",
        "    \n",
        "def get_element(url, tag='',search={}, fname=None):\n",
        "    \"\"\"\n",
        "    Downloads a page specified by the url parameter\n",
        "    and returns a list of strings, one per tag element\n",
        "    \"\"\"\n",
        "    if isinstance(url,str):\n",
        "        response = simple_get(url)\n",
        "    else:\n",
        "        #if already it is a loaded html page\n",
        "        response = url\n",
        "    if response is not None:\n",
        "        html = BeautifulSoup(response, 'html.parser')\n",
        "        res = []\n",
        "        if tag:    \n",
        "            for li in html.select(tag):\n",
        "                for name in li.text.split('\\n'):\n",
        "                    if len(name) > 0:\n",
        "                        res.append(name.strip())\n",
        "        if search:\n",
        "            soup = html            \n",
        "            r = ''\n",
        "            if 'find' in search.keys():\n",
        "                print('findaing',search['find'])\n",
        "                soup = soup.find(**search['find'])\n",
        "                r = soup\n",
        "            if 'find_all' in search.keys():\n",
        "                print('findaing all of',search['find_all'])\n",
        "                r = soup.find_all(**search['find_all'])\n",
        "            if r:\n",
        "                for x in list(r):\n",
        "                    if len(x) > 0:\n",
        "                        res.extend(x)\n",
        "        return res\n",
        "    # Raise an exception if we failed to get any data from the url\n",
        "    raise Exception('Error retrieving contents at {}'.format(url))    \n",
        "    \n",
        "    \n",
        "if get_ipython().__class__.__name__ == '__main__':\n",
        "    fire(get_tag_elements)"
      ],
      "execution_count": 3,
      "outputs": []
    },
    {
      "cell_type": "markdown",
      "metadata": {
        "id": "f-_e4T1yOVH4",
        "colab_type": "text"
      },
      "source": [
        "Web scrape 1000 most influential Twitter users in Africa using Python or Bash to obtain the 100 African twitter influencers.\n",
        "\n",
        "You are required to compile active twitter users' handles for your country. You can start\n",
        "doing so by collecting first the twitter accounts of\n",
        "\n",
        "● Top government officials including ministries and deputy ministers\n",
        "\n",
        "● Active journalists and their media network\n",
        "\n",
        "● Active ambassadors\n",
        "\n",
        "● Active celebrities"
      ]
    },
    {
      "cell_type": "markdown",
      "metadata": {
        "id": "nBTT4vTeYena",
        "colab_type": "text"
      },
      "source": [
        "● List of \n",
        "Top government officials including ministries and deputy ministers"
      ]
    },
    {
      "cell_type": "code",
      "metadata": {
        "id": "t5nzQX4kdli_",
        "colab_type": "code",
        "colab": {}
      },
      "source": [
        "import tweepy\n",
        "import csv\n",
        "\n",
        "consumer_key = \"\"\n",
        "consumer_secret = \"\"\n",
        "access_token = \"\"\n",
        "access_token_secret = \"\"\n",
        "\n",
        "# Creating the authentication object\n",
        "auth = tweepy.OAuthHandler(consumer_key, consumer_secret)\n",
        "# Setting your access token and secret\n",
        "auth.set_access_token(access_token, access_token_secret)\n",
        "# Creating the API object while passing in auth information\n",
        "api = tweepy.API(auth) "
      ],
      "execution_count": 4,
      "outputs": []
    },
    {
      "cell_type": "code",
      "metadata": {
        "id": "APCNSVM_YDh-",
        "colab_type": "code",
        "colab": {
          "base_uri": "https://localhost:8080/",
          "height": 88
        },
        "outputId": "491a13d2-f05d-4a5e-bef6-5c274da8cf9d"
      },
      "source": [
        "res = get_elements('https://www.intelligencefusion.co.uk/blog/top-30-most-followed-news-accounts-on-twitter',tag='p')\n",
        "s = str(res)\n",
        "\n",
        "import re\n",
        "extracted_newslink = re.findall(r\"@(\\w+)\", s)\n",
        "str(extracted_newslink)"
      ],
      "execution_count": 5,
      "outputs": [
        {
          "output_type": "execute_result",
          "data": {
            "application/vnd.google.colaboratory.intrinsic+json": {
              "type": "string"
            },
            "text/plain": [
              "\"['telegraph', 'telegraph', 'cbcnews', 'cbcnews', 'independent', 'independent', 'rt_com', 'rt_com', 'guardiannews', 'guardiannews', 'france24_en', 'france24_en', 'france24', 'france24', 'cnbc', 'cnbc', 'newsweek', 'newsweek', 'skynewsbreak', 'skynewsbreak', 'ajenglish', 'ajenglish', 'skynews', 'skynews', 'financialtimes', 'financialtimes', 'guardian', 'guardian', 'breakingnews', 'breakingnews', 'huffpost', 'huffpost', 'ndtv', 'ndtv', 'xhnews', 'xhnews', 'ap', 'ap', 'washingtonpost', 'washingtonpost', 'abc', 'abc', 'time', 'time', 'wsj', 'wsj', 'reuters', 'reuters', 'theeconomist', 'theeconomist', 'bbcworld', 'bbcworld', 'bbcbreaking', 'bbcbreaking', 'cnn', 'cnn', 'nytimes', 'nytimes', 'cnnbrk', 'cnnbrk', 'IntellFusion', 'IFNorthAmerica', 'IFSouthAmerica', 'IF_Africa', 'IF_Asia_', 'IF_Europe']\""
            ]
          },
          "metadata": {
            "tags": []
          },
          "execution_count": 5
        }
      ]
    },
    {
      "cell_type": "code",
      "metadata": {
        "id": "7WDtkOiAciMa",
        "colab_type": "code",
        "colab": {
          "base_uri": "https://localhost:8080/",
          "height": 407
        },
        "outputId": "5b2f21e3-a205-4257-83ba-9d4d93107330"
      },
      "source": [
        "url= 'https://www.okayafrica.com/top-15-nigerian-political-twitter-accounts/'\n",
        "top_govOfficials = []\n",
        "response = get(url).content\n",
        "res_gov = get_elements(response, tag='blockquote')\n",
        "gov_officials_twitter_handles = []\n",
        "for r in res_gov:\n",
        "    split_data = r.split('— ',maxsplit=1)[1].rsplit('(',maxsplit=1)\n",
        "    name = split_data[0].split(',')[0].strip()\n",
        "    handle =  split_data[1].rsplit(')',maxsplit=1)[0]\n",
        "    gov_officials_twitter_handles.append(handle)\n",
        "    top_govOfficials.append(handle)\n",
        "    print(f'{name} : {handle}')"
      ],
      "execution_count": 6,
      "outputs": [
        {
          "output_type": "stream",
          "text": [
            "Zainab Usman : @Zainab Usman\n",
            "Zainab Usman : @Zainab Usman\n",
            "Zainab Usman : @Zainab Usman\n",
            "JJ. Omojuwa : @JJ. Omojuwa\n",
            "Gimba Kakanda : @Gimba Kakanda\n",
            "Aisha Yesufu : @Aisha Yesufu\n",
            "AYO SOGUNRO : @AYO SOGUNRO\n",
            "Mr. Aye Dee : @Mr. Aye Dee\n",
            "Mr. Aye Dee : @Mr. Aye Dee\n",
            "'Gbénga Sèsan : @'Gbénga Sèsan\n",
            "The Godfather : @The Godfather\n",
            "Khaleesi : @Khaleesi\n",
            "Chidi Okereke : @Chidi Okereke\n",
            "Chidi Okereke : @Chidi Okereke\n",
            "Ada Ọpia Egbe : @Ada Ọpia Egbe\n",
            "Rosanwo : @Rosanwo\n",
            "Rosanwo : @Rosanwo\n",
            "HENRY Okelue : @HENRY Okelue\n",
            "Onye Nkuzi : @Onye Nkuzi\n",
            "Onye Nkuzi : @Onye Nkuzi\n",
            "Demola Olarewaju : @Demola Olarewaju\n",
            "Demola Olarewaju : @Demola Olarewaju\n"
          ],
          "name": "stdout"
        }
      ]
    },
    {
      "cell_type": "code",
      "metadata": {
        "id": "LSALK4nqd5kD",
        "colab_type": "code",
        "colab": {}
      },
      "source": [
        "# The Twitter user who we want to get followers count for\n",
        "  # Calling the user_timeline function with our parameters\n",
        "govofficial_list = [\"@seyiamakinde\",\"@officialKolaO\",\"@RotimiAkeredolu\"]\n",
        "journalist_list = [\"@channelstv\",\"@TVCconnect\"]\n",
        "celebrities_list = [\"@topealabi01\", \"@funkeakindele\"]\n",
        "\n",
        "RotimiAkeredolu = []\n",
        "seyiamakinde = []\n",
        "TVCconnect = []\n",
        "channelstv = []\n",
        "funkeakindele = []\n",
        "topealabi01 = []\n",
        "ayosogunro = []"
      ],
      "execution_count": 7,
      "outputs": []
    },
    {
      "cell_type": "code",
      "metadata": {
        "id": "GWbJNC0IE0Hk",
        "colab_type": "code",
        "colab": {}
      },
      "source": [
        "for user in tweepy.Cursor(api.friends, screen_name=\"@RotimiAkeredolu\").items():\n",
        "  RotimiAkeredolu.append(user.screen_name)"
      ],
      "execution_count": 8,
      "outputs": []
    },
    {
      "cell_type": "code",
      "metadata": {
        "id": "Ab2ou1khJQzK",
        "colab_type": "code",
        "colab": {}
      },
      "source": [
        "for user in tweepy.Cursor(api.friends, screen_name=\"@seyiamakinde\").items():\n",
        "  seyiamakinde.append(user.screen_name)"
      ],
      "execution_count": null,
      "outputs": []
    },
    {
      "cell_type": "code",
      "metadata": {
        "id": "-zUH_DPsIbDW",
        "colab_type": "code",
        "colab": {}
      },
      "source": [
        "for user in tweepy.Cursor(api.friends, screen_name=\"@funkeakindele\").items():\n",
        "  funkeakindele.append(user.screen_name)"
      ],
      "execution_count": null,
      "outputs": []
    },
    {
      "cell_type": "code",
      "metadata": {
        "id": "QNsmOa1nIiIF",
        "colab_type": "code",
        "colab": {}
      },
      "source": [
        "for user in tweepy.Cursor(api.friends, screen_name=\"@TVCconnect\").items():\n",
        "  TVCconnect.append(user.screen_name)"
      ],
      "execution_count": null,
      "outputs": []
    },
    {
      "cell_type": "code",
      "metadata": {
        "id": "97a0NJVCNWrE",
        "colab_type": "code",
        "colab": {}
      },
      "source": [
        "for user in tweepy.Cursor(api.friends, screen_name=\"@topealabi01\").items():\n",
        "  topealabi01.append(user.screen_name)"
      ],
      "execution_count": null,
      "outputs": []
    },
    {
      "cell_type": "code",
      "metadata": {
        "id": "ypztd6dVIrTV",
        "colab_type": "code",
        "colab": {}
      },
      "source": [
        "for user in tweepy.Cursor(api.friends, screen_name=\"@channelstv\").items():\n",
        "  channelstv.append(user.screen_name)"
      ],
      "execution_count": null,
      "outputs": []
    },
    {
      "cell_type": "code",
      "metadata": {
        "id": "qttJO58qfAx2",
        "colab_type": "code",
        "colab": {}
      },
      "source": [
        "for user in tweepy.Cursor(api.friends, screen_name=\"@ayosogunro\").items():\n",
        "  ayosogunro.append(user.screen_name)"
      ],
      "execution_count": null,
      "outputs": []
    },
    {
      "cell_type": "code",
      "metadata": {
        "id": "M78iwinTMLA1",
        "colab_type": "code",
        "colab": {}
      },
      "source": [
        "seyiamakinde = ['Bolasarumi_ali', 'RotimiAkeredolu', 'Seun_TNA', 'FunmiSalami3', 'BVA_Bello', 'AdeniyiAdebisi_', 'JideAdeosun', 'jumokeakinjide', 'PeterObi', 'MoghaluKingsley', 'TheSeunFakorede', 'bukolasaraki', 'iamakinolaojo', 'IsiakaAdeleke1', 'iamHSDickson', 'akande_debo', 'DAWNCommission', 'iamominini', 'oyostategovt', 'raufolaniyan', 'PDPOyoState', 'ProfDKSH', 'OID_Global', 'Adebo_ogund', 'ilaka_bisi', 'abassade', 'BudgITng', 'thelionheart_t', 'captainbebo', 'GeniusJokerNG', 'Omoboinke1', 'D_GeneralMonroe', 'SayyuAminu', 'AkinAdegboyega', 'MatthewOgunlere', 'gyonlineng', 'Mayorduke1', 'darlingbayo', 'PDP_2023', 'SupportSeyi', 'PDPVanguard', 'iam_ykay', 'alagbafo1hour', 'IbadanGotTalent', 'makinwaoluwole', 'fmlykdat', 'GoodluckNgr', '1race_tv', 'The_Osazuwa', 'Sopirinye', 'AkanbiOri', 'ODUXOLOGY', 'teejay_tobman', 'seunomoakinola', 'rollybello', 'DrAgboEmmanuel', 'GovAyoFayose', 'HECTVofficial', 'atiku', 'OfficialPDPNig', 'ayoola_iyanda', 'musliudeen', 'seundavid0310', 'Abdulfatihoba', 'neyopompe01', 'richardmammah', 'ola_shodimu', 'akeem_lasisi', 'Starfm915', 'mulikatadeola', 'ibcityannouncer', 'freshfmibadan', 'eDoctor7', 'oladipokunle', 'delaw1999', 'PowemIbadan', 'mike_imouk', 'echannelhex', 'theayogeorge', 'seunonigbinde', 'AyoAyodabo1', 'molarawood', 'yppjf', 'akande_adebayo', 'kehindeayoolajp', 'Isrimmsky1', 'TheCakeChancery', 'WaleOzolua', 'MrKakaki', 'ekufre', 'GovernorKaslas', 'TayePaulOlubayo', 'bolu_oj', 'Adetomilayo', 'Tolu_Erogbogbo', 'NejeebBello', 'iamtohlublaize', 'UnibadanGossips', 'wildeyeq', 'borie_nla', 'legitngnews', 'dsalahu', 'UcheBriggs', 'amaroq_ilaya', 'JauntieBellz', 'oluwajuwalo', 'Olurotimisure', 'Warlorrd70', 'linbizglobal', 'tobaranest', 'ogunmilorokenny', 'observer_2027', 'leaderwolf14', 'ekajnr', 'nujenews', 'rossonero101', 'Beatpluz', 'alaoadams', 'olaniyan040', 'OLANIKEEMII', 'ehyitayo', 'leraygunn', 'abayoleye2007', 'tundeo514', 'texglobals', 'dutem18', 'PromptNewso', 'iamtennygee', 'llb60', 'RGAMeyer', 'lagosbooksclub', 'PrinceofSydney', 'EletikoO', 'Remadebayo', 'femona2tawa', 'PHEMY37', 'Mattoo198', 'PeterEledan', 'Goldensax', 'AkinjideAjisafe', 'Rem_MankinD', 'dejiSHALOM', 'Ii_zik', 'tem2202', 'FEGO_OS', 'Funkyshinaayo', 'Omobaale', 'TheIbadanCity', 'OlaWayn', 'whatsupibadan', 'feelib', 'Ibadan247', 'Bolasarumi_ali', 'RotimiAkeredolu', 'Seun_TNA', 'FunmiSalami3', 'BVA_Bello', 'AdeniyiAdebisi_', 'JideAdeosun', 'jumokeakinjide', 'PeterObi', 'MoghaluKingsley', 'TheSeunFakorede', 'bukolasaraki', 'iamakinolaojo', 'IsiakaAdeleke1', 'iamHSDickson', 'akande_debo', 'DAWNCommission', 'iamominini', 'oyostategovt', 'raufolaniyan', 'PDPOyoState', 'ProfDKSH', 'OID_Global', 'Adebo_ogund', 'ilaka_bisi', 'abassade', 'BudgITng', 'thelionheart_t', 'captainbebo', 'GeniusJokerNG', 'Omoboinke1', 'D_GeneralMonroe', 'SayyuAminu', 'AkinAdegboyega', 'MatthewOgunlere', 'gyonlineng', 'Mayorduke1', 'darlingbayo', 'PDP_2023', 'SupportSeyi', 'PDPVanguard', 'iam_ykay', 'alagbafo1hour', 'IbadanGotTalent', 'makinwaoluwole', 'fmlykdat', 'GoodluckNgr', '1race_tv', 'The_Osazuwa', 'Sopirinye', 'AkanbiOri', 'ODUXOLOGY', 'teejay_tobman', 'seunomoakinola', 'rollybello', 'DrAgboEmmanuel', 'GovAyoFayose', 'HECTVofficial', 'atiku', 'OfficialPDPNig', 'ayoola_iyanda', 'musliudeen', 'seundavid0310', 'Abdulfatihoba', 'neyopompe01', 'richardmammah', 'ola_shodimu', 'akeem_lasisi', 'Starfm915', 'mulikatadeola', 'ibcityannouncer', 'freshfmibadan', 'eDoctor7', 'oladipokunle', 'delaw1999', 'PowemIbadan', 'mike_imouk', 'echannelhex', 'theayogeorge', 'seunonigbinde', 'AyoAyodabo1', 'molarawood', 'yppjf', 'akande_adebayo', 'kehindeayoolajp', 'Isrimmsky1', 'TheCakeChancery', 'WaleOzolua', 'MrKakaki', 'ekufre', 'GovernorKaslas', 'TayePaulOlubayo', 'bolu_oj', 'Adetomilayo', 'Tolu_Erogbogbo', 'NejeebBello', 'iamtohlublaize', 'UnibadanGossips', 'wildeyeq', 'borie_nla', 'legitngnews', 'dsalahu', 'UcheBriggs', 'amaroq_ilaya', 'JauntieBellz', 'oluwajuwalo', 'Olurotimisure', 'Warlorrd70', 'linbizglobal', 'tobaranest', 'ogunmilorokenny', 'observer_2027', 'leaderwolf14', 'ekajnr', 'nujenews', 'rossonero101', 'Beatpluz', 'alaoadams', 'olaniyan040', 'OLANIKEEMII', 'ehyitayo', 'leraygunn', 'abayoleye2007', 'tundeo514', 'texglobals', 'dutem18', 'PromptNewso', 'iamtennygee', 'llb60', 'RGAMeyer', 'lagosbooksclub', 'PrinceofSydney', 'EletikoO', 'Remadebayo', 'femona2tawa', 'PHEMY37', 'Mattoo198', 'PeterEledan', 'Goldensax', 'AkinjideAjisafe']"
      ],
      "execution_count": 10,
      "outputs": []
    },
    {
      "cell_type": "code",
      "metadata": {
        "id": "wC7qis1zIFLg",
        "colab_type": "code",
        "colab": {}
      },
      "source": [
        "RotimiAkeredolu = ['ShinaPeller', 'ODIRS_NG', 'NigeriaNewsdesk', 'OndoAssembly', 'IAOkowa', 'mrmacaronii', 'TeniEntertainer', 'Saheed_Ibrahim1', 'StephanieBusari', 'dawisu', 'channelstv', 'PINDFoundation', 'YulEdochie', 'Moyinolubunmi', 'AusHCAbuja', 'stefanswartpet', 'thecableng', 'legitngnews', 'kola_aina', 'PremiumTimesng', 'LSMOH', 'ProfAkinAbayomi', 'Abakinruntan', 'cenbank', 'Rebecca_Huey', 'jimidisu', 'YemieFASH', 'UBAFoundation', 'UBAGroup', 'MrTomide', 'Fmohnigeria', 'Chikwe_I', 'NCDCgov', 'OvieOmoAgege', 'OndoFirstBorn', 'GovUmarGanduje', 'GbemiOO', '1babse', 'emPawaAfrica', 'Leopardybn', 'oyostategovt', 'seyiamakinde', 'SenUcheEkwunife', 'BudgITng', 'emergingtechAF', 'ClemAgba', 'TrackaNG', 'CatrionaLaing1', 'ObatAkinruntan', 'IBMMEA', 'IBM', 'officialEFCC', 'jidesanwoolu', 'PGFNigeria', 'GarShehu', 'bisiafayemi', 'BlessedMichae19', 'RussellOkung', 'OvieAli', 'mreazi', 'Innovate_Ondo', 'Akure_techhub', 'markessien', 'OndoRural', 'AfDB_Group', 'TheCitadelNg', 'akin_adesina', 'OfficialAPCNg', 'allensowore451', 'seunokin', 'soledadobrien', 'HMAdebayoShittu', 'UNICEF_Nigeria', 'Buddyrichy141', 'osrctvondo', 'NigeriaGov', 'NGRPresident', 'osphcdb', 'OlumbeAKinkugbe', 'Nairametrics', 'followlasg', 'obyezeks', 'DrJoeAbah', 'UKinNigeria', 'SunshineFCAkure', 'MADENigerDelta', 'NsimaUEkere', 'LaureBeaufils', 'DAWNCommission', 'OndoStateHealth', 'SFHNigeria', 'floondo', 'D_Aruwajoye', 'Segunmimiko', 'realRochas', 'bonifacemwangi', 'LolaAkinmade', 'MNDA_Ng', 'dareynow', 'Realomosexy', 'daily_trust', 'ogundamisi', 'EiENigeria', 'SanRomeo', 'AATSarumi', 'bukolasaraki', 'PentagonMG', 'YeleSowore', 'NigerianLaw', 'NigBarAssoc', 'GovernorObaseki', 'FAdekoyaSAN', 'DeleMomodu', 'teamaketi', 'elrufai', 'OndoAPC', 'Adaba889fm', 'BukieAdetula', 'SenBoroffice', 'oandalegal', 'femigbaja', 'AkinwunmiAmbode', 'AlegehAugustine', 'APCNigeria', 'ProfOsinbajo', 'MBuhari', 'atiku', 'iamtokunbojames', 'adetai', 'AsiwajuTinubu', 'deluchi2001', 'abikedabiri', 'GbenroAdegbola', 'TRLPLAW', 'SundayDareSD', 'kunlf', 'looceye', 'Bettyaak', 'Elombah', 'PolarisBankLtd', 'dichefit', 'steveikeomumu', 'TomiDee', 'KolawoleAketi', 'YinkaParrot', 'tfolaadeola', 'lanreneville', 'SIAmosun', 'OndoForTruth', 'MobilePunch', 'Unotech', 'OndoStateToday', 'kfayemi', 'kayodea', 'tundefashola', 'AAAjimobi', 'raufaregbesola', 'ekitistategov', 'ShinaPeller', 'ODIRS_NG', 'NigeriaNewsdesk', 'OndoAssembly', 'IAOkowa', 'mrmacaronii', 'TeniEntertainer', 'Saheed_Ibrahim1', 'StephanieBusari', 'dawisu', 'channelstv', 'PINDFoundation', 'YulEdochie', 'Moyinolubunmi', 'AusHCAbuja', 'stefanswartpet', 'thecableng', 'legitngnews', 'kola_aina', 'PremiumTimesng', 'PremiumTimesng', 'LSMOH', 'ProfAkinAbayomi', 'Abakinruntan', 'cenbank', 'Rebecca_Huey', 'jimidisu', 'YemieFASH', 'UBAFoundation', 'UBAGroup', 'MrTomide', 'Fmohnigeria', 'Chikwe_I', 'NCDCgov', 'OvieOmoAgege', 'OndoFirstBorn', 'GovUmarGanduje', 'GbemiOO', '1babse', 'emPawaAfrica', 'Leopardybn', 'oyostategovt', 'seyiamakinde', 'SenUcheEkwunife', 'BudgITng', 'emergingtechAF', 'ClemAgba', 'TrackaNG', 'CatrionaLaing1', 'ObatAkinruntan', 'IBMMEA', 'IBM', 'officialEFCC', 'jidesanwoolu', 'PGFNigeria', 'GarShehu', 'bisiafayemi', 'BlessedMichae19', 'RussellOkung', 'OvieAli', 'mreazi', 'Innovate_Ondo', 'Akure_techhub', 'markessien', 'OndoRural', 'AfDB_Group', 'TheCitadelNg', 'akin_adesina', 'OfficialAPCNg', 'allensowore451', 'seunokin', 'soledadobrien', 'HMAdebayoShittu', 'UNICEF_Nigeria', 'Buddyrichy141', 'osrctvondo', 'NigeriaGov', 'NGRPresident', 'osphcdb', 'OlumbeAKinkugbe', 'Nairametrics', 'followlasg', 'obyezeks', 'DrJoeAbah', 'UKinNigeria', 'SunshineFCAkure', 'MADENigerDelta', 'NsimaUEkere', 'LaureBeaufils', 'DAWNCommission', 'OndoStateHealth', 'SFHNigeria', 'floondo', 'D_Aruwajoye', 'Segunmimiko', 'realRochas', 'bonifacemwangi', 'LolaAkinmade', 'MNDA_Ng', 'dareynow', 'Realomosexy', 'daily_trust', 'ogundamisi', 'EiENigeria', 'SanRomeo', 'AATSarumi', 'bukolasaraki', 'PentagonMG', 'YeleSowore', 'NigerianLaw', 'NigBarAssoc', 'GovernorObaseki', 'FAdekoyaSAN', 'DeleMomodu', 'teamaketi', 'elrufai', 'OndoAPC', 'Adaba889fm', 'BukieAdetula', 'SenBoroffice', 'oandalegal', 'femigbaja', 'AkinwunmiAmbode', 'AlegehAugustine', 'APCNigeria', 'ProfOsinbajo', 'MBuhari', 'atiku', 'iamtokunbojames', 'adetai', 'AsiwajuTinubu', 'deluchi2001', 'abikedabiri', 'GbenroAdegbola', 'TRLPLAW', 'SundayDareSD', 'kunlf', 'looceye', 'Bettyaak', 'Elombah']"
      ],
      "execution_count": 11,
      "outputs": []
    },
    {
      "cell_type": "code",
      "metadata": {
        "id": "ZnLtS_qPnLrW",
        "colab_type": "code",
        "colab": {}
      },
      "source": [
        "ayosogunro = ['ShineDarsh', 'thehassanian', 'dkieghe', 'chukaobi', 'Rene_noire', 'jacksonpbn', 'simonallison', 'slimsola', 'waweru', 'alea_iacta_', 'OlumideAkpata', 'ifedioku', 'theOluwatosin', 'shemmaye', 'Echecrates', 'haajara', 'kevinedavis', 'DocDre', 'hanit001', 'aprilwensel', 'NyawiraNjoroge', 'therealdaddymo1', 'NASA', 'MbalulaFikile', 'Ziziian', 'rulajebreal', 'KolaOyeneyin', 'CarolineKende', 'RealSolaKuti', 'thefaridaadamu', 'ChuksJaphet', 'ankaboy', '_IamWhispers', 'TrophyHusbandD', 'SCVNGoddess', 'Sylvia_Ikeji', 'UjuAnya', 'Chijioke_', 'ChuksUnfiltered', 'chris_nwosu_', 'chisom_hector', 'ennyola0015', 'Nimisire', 'vincentdesmond_', 'qwertybasss', 'Ayishat_Akanbi', 'davidoladeji', 'Donteewrites', 'Intergrity56', 'SusanIkegwu', 'eriifemusic', 'Iam_Yayi', 'light_blazer', 'WilsonBrownYomi', 'toluxylic', 'PelumiK', 'Main_guy_', 'ubongabasi', 'Femi_Areola', 'funshographix', 'espeezeal', 'Senator_Chegxie', 'aweleemili', 'temilolu_wah', 'justbeing_ayo', 'tritimaa_', 'swemyada', 'bowlofcrisps', 'JUSTADACHI', 'article19law', 'fqdayib', 'EiENigeria', 'chosensomto', 'eldivyn', 'redlightvoices', 'Stainless247', 'faithmight', 'jamiltoyo', 'sabimson', 'FLIPTYCE', 'nazaokoli', 'nicd_sa', 'onuoraogunoac', 'duchesskk', 'sinmbo', 'Spidey77949623', 'Baldilocks__', 'OleItumbi', 'UtaMakhema', 'k_odada', 'animolenikun', 'the_odditty', 'njokingumi', 'michellechivung', 'NCDCgov', 'hrw', 't0nit0ne', 'MoghaluKingsley', 'adamugarba', 'sugeezy', 'haddijatoujonga', 'LadyEumukoro', 'investbamboo', 'MucahidDurmaz', 'MohamedFall', 'MsLadyPhyll', 'tazmus982', 'SolomonADersso', 'Riddwane', 'ShalomDickson', 'PanAfricanUnity', 'K_AdurojaTVC', 'Marketplaces247', 'oryembley', 'fisayosoyombo', 'oluwaloninyo', 'BigDaddyonair', 'ChukwuderaEdozi', 'rrudegal', 'wfm917', 'kikimordi', 'realREANigeria', 'dounardbondo', 't3niola', 'gechife', 'AjiSaineyKahESQ', 'DokunOjomo', 'profdanhicks', 'MelusiSiboniso', 'mataba02', 'DrCOmole', 'BTDTHub', 'PalmerReport', 'Tshada_M', 'jack', '_MrsMalaprop', 'LaureBeaufils', 'BankyW', 'joeloseiga', 'Adebo_ogund', 'gossyomega', 'JoBaidoo', 'thelifeofdami', 'DamzAdeleye', 'NekkaSmith', 'tate_musinahama', 'ayoolids', 'kachi208', 'conumah', 'gentleojay', 'OhTimehinSays', 'CanHCNigeria', 'bankulli', 'kudakwa93753794', 'ruthmaclean', 'tunjiomotola', 'JohnCampbellcfr', 'bisiafayemi', 'debbidooda', 'eyderp', 'LaurieAClaase', 'jessemsperling', 'Elle_Drews', 'HassanIdayat', 'Jollz', 'EmekaAmakeze', 'DavidHundeyin', 'Stylebymixie', 'JanetUosu', 'tino_wino', 'DidiNtheBanx', 'ulxma', 'sharon_ikeazor', 'donnasthill', 'louis_ntaj', 'brandsofcourage', 'AE_Yamin', 'aoteh', 'bakalir1', 'Muciru', 'Ay_Pea', 'soledadobrien', '_nthatii_', 'sheetal6189', 'iamseunbakare', 'MagnusKillander', 'ProfLizGriffin', 'iyad_elbaghdadi', '_honeyricci_', 'Lazeewriter', 'KayaFMTalk', 'CHLemchi', 'johnedwinmason', 'maleeki_', 'HarryItie', 'aonanuga1956', 'NeelaGhoshal', 'olatoxx', 'tolujonson', 'afureo', 'Ige007', 'Oludidi', 'BiggiePinGing', 'ozzyetomi', 'akorive001', 'aniewang', 'SashaPofficial', 'dessyslays1', 'xkape', 'chumathomp', 'AEinitiatives', 'KateOsamor', '_torinmo', 'seunonigbinde', 'OmogeDami', 'aushamaki', 'andyRoidO', 'marie_mlola', 'BoluwajiDavids', 'AdakuUfere', 'AbeOyeniyi', 'MatthewWaites', 'JLPisJLPisJLP', 'Thedammylawal', 'dejiajare', 'FayWangari', 'inpoco', 'LeahFessler', 'remyngol', 'IAchpr', 'fannygomezlugo', 'achiengakena', 'oghalebu', 'Citizens4Africa', 'enobong', 'afalli', 'DiscretionUiB', 'ybnl_princess', 'GarriCake', 'Kingwole', 'lordRij', 'Lindzilia', 'nellylaoni', 'nals14', 'llsisi', 'Mzlianne', 'Umars_Daughter', 'OlufemiAwoyemi', 'rolakebamgbose', 'madayo', 'clivesimpkins', 'SheikhaSarwi', 'debbieo1_', 'ToyinSaraki', 'geokaycee', 'TundeIrukera', 'vilebillionaire', 'briticoyemo', 'mariamkmarr', 'MsKhaddie', 'ChifeDr', 'AusHCAbuja', 'henryshield', 'waithera_jk', 'olaokun_s', 'HenshawKate', 'philhazlewood', 'seye', 'UNCLE_AJALA', 'HamzyCODE', 'TheYomiKazeem', 'bellanaija', 'rakewalaw', 'musubakoto', 'ifenihinlola', 'tosinolaseinde', 'tomiwa_ilori', 'NFF2008', 'JeleCynthia', 'gbemy01', 'AcjaObs', 'GuardianNigeria', 'Warega_N', 'ciaramoconnell', 'ACHPRreport', 'LawTransform', 'ZumaXY', 'AyoBankole', 'HafsatKIND', 'subomiplumptre', 'innosonvehicles', 'NonieMG', 'S_khumalo', 'GambiaNYC', 'YeleSowore', 'OmololaOmotoso1', 'SJFindlay', 'aadetugbo', '_lamide_', 'siobhan_ogrady']"
      ],
      "execution_count": 26,
      "outputs": []
    },
    {
      "cell_type": "code",
      "metadata": {
        "id": "G2BUWKKlFCir",
        "colab_type": "code",
        "colab": {}
      },
      "source": [
        "funkeakindele = ['Lucybab57879420', 'Bethesda_school', 'Walexdhino', 'Iam_IkeOnyema', 'theNETng', 'RTLifeQuotes', 'ThisInspiresUs', 'IsholaOlufemi14', 'ThatPastorzKid', 'iam_westhiez', 'abimbolabmw', 'Beccabae3', 'oorebambam', 'Iam_Olusanya', 'queen_vbeno', 'Dlolahh', 'Phunmilahyoh', 'odavidinho30', 'iam_hyrish', 'JAYNE_CLAIRE__', 'tarajiphenson', 'everest', 'Happine92878457', 'muftimenk', 'iam_vanvicker', 'crazeclown', 'Zlatan_Ibile', 'SamAdegoke', 'officialnairam1', 'AiyetoroTown', 'stylebender', 'MoAbudu', 'anythingoye', 'FakhuusHashim', 'CleannaijaNG', 'adekunleGOLD', 'ActionAidNG', 'iamkissdaniel', 'yemoka', 'Attanda_', 'fchibuzo23', 'FolarinXO', 'Iyanya', '2niteFlavour', 'official2baba', 'Dharmiee01', 'thesimesty', 'adeyemioyinda12', 'yemialadee', 'Teanuhcouture', 'Dammy_eneli', 'Rameseck', 'KunleJONISE', 'gbolahanodebowa', 'IWV', 'obaxlove87', 'AmbroseOkwoli', 'omojolaDamilol7', 'kunbzberry', 'PrettyNenny89', 'mimir0wlz', 'dayoslides', 'Latestoby', 'msutaay', 'tiffany_ehi', 'Westernlottong', 'Yemisi__O', 'iam_teem', 'oluwakemi200', 'DJSPINALL', 'Wazobia_FM', 'zack_aminu', 'obiasika', 'OBOGlobal', 'PaolaAudrey', 'AgencePannelle', 'real__stella', 'kollybhadmus', 'bolanleolukanni', 'MTVBaseWest', 'CoolFMNigeria', 'imoheboh', 'jamesbacon769', 'LindaEjiofor', 'Industreetdrama', 'TheLotaChukwu', 'poga09', 'Oluwatoyosiest', 'SAMKLEF', 'LifeOfDorbulyn', 'preciouseghieye', 'busifunmi', 'iamadunniade', 'Off_Gemstones', 'iamMoEazy', 'Bubbles_O', 'THEBEAT999FM', 'HproMovies', 'sonorouskanye_', 'MartinsFeelz', 'burnaboy', 'Obistical1', 'soprecords_', 'fluxyangel', 'MuyiwaAkinlehin', 'Omojuwa', 'Haleemah____', 'temithorpe_242', 'wisdom2inspire_', 'JaiKaliMa_', 'Joanna__', 'InspiredUs', 'MuyiMyghty', 'aphroDIJA', 'obyezeks', 'circesfx', 'ChidimmaChidim8', 'olayiwo24635279', 'topeoshin', '_Arikeade_', 'Mz_tunmie', 'Miz_Fey', 'Iamhemmanuel', 'amenestate', 'omonagbator', 'TheCooksCook', 'A_shadeof_blaq', 'akahnnani', 'gbengaaruleba', 'PastorID', 'RCCGCityofDavid', 'Aadetola_', 'TWEETORACLE', 'ericyeboahgh', 'DJAMEDIA', 'lausteves', 'NTAMoviesToday', 'Dorlipi', 'SceneoneTV', 'IamMcMallam01', 'diva_nehneh', 'tashasmith4real', 'KingFoye_', 'OfficialAyuba', 'Evaebonyy', 'loy_loyjack', 'LebaraPlay', 'Yvethi', 'RealChinenye', 'NoelleFranc3sca', 'modebayooni', 'whema', 'OgbeniDipo', 'Priyanka_africa', 'DaTolu_Fash', 'bolaallison', '3ltino', 'TanyaVome', 'deejayskotty', 'oluwatobiajatta', 'Akinsanyadanie2', 'iam_Tobiismail', 'TobiMoshood', 'hormorte', 'MarioMonforte', 'TosynBucknor', 'koolblaque', 'SirLogix', 'lanrry001', 'BettyIrabor', 'GodwinAruwayo', 'ushbebecomedian', 'sabinadgreat', 'dauda_suzana', 'wanny4show', 'Chief_di234', 'philips_Nonny', 'glorykech', 'alvanchinaka', 'RealisticGirlie', 'employtheworld', 'irokotv', 'Sumzyhotbabe', 'AbisHappyPlace', 'TaymiB', 'MotivatedLiving', 'TeamKateHenshaw', 'shane_seun', 'UpliftingQuotes', 'motivational', 'Quotes_Life', 'GreatestQuotes', 'StumblerBest', 'yoruba_proverbs', 'sleekiee', 'EarlofLagos', 'EddieLeem', 'OfficialMissKDK', 'princessijay1', 'COOLP14', 'nenegwill', 'AnyanwuEminent', 'datcoolgaffy', 'gbomolewa', 'benlandis', 'africamagictv', 'Ximena_HUD', 'funket4u', 'OyindamolaDada', 'AdetoyeseAliyu', 'osinachicp', 'Bigpsamy', 'babynass1', 'TommyPusso101', 'ijeomajokafor', 'OfficerRod8037', 'KameronBennett', 'jos_pretty', 'GbemiOO', 'KubyUyanga', 'AYCOMEDIAN', 'MattPoss', 'abiolaasekun', 'fundebra', 'funnyogbolor', 'OloriSupergal', 'Lamboginny', 'fakuadefhemmy', 'khleorozy', 'Sir3lvis', 'shesooshants', 'SamadeyemiA', 'AdedejAdedeji', 'Gentleexponent', 'comphie01', '6BillionPeople', 'Iam_batungas', 'Kingblazey', '0lumuyiwac0ker', 'iyaagba', 'ObinnaOfficial', 'OlaosunD', 'realpower32', 'lanrewaju_dayo', 'realokuchukwu', 'Saltofdworld', 'jummy_lee', 'PinkPearlNG', 'Tom_dopezzy', 'atone_fola', '35752baec6e940a', 'WirelessIgbokwe', 'mistacooliyoo', 'dakolalads', 'EstolPropsMedia', 'Funmi4PH', 'taiwo_somefun', 'Jessejagz', 'haybydeymie', 'gbadegshine10', 'Olamide', 'IamDrSID', 'bizzleosikoya', 'abokithebahdguy', 'IamMisfitz', 'falzthebahdguy', 'GbemiLukman', 'dapheonixking', 'bukola_abel', '_Torha', '937RhythmFm', 'GodyBeny', 'DebolaLagos', 'Oluwafisher', 'FLIPTYCE', 'yakubumohammed_', 'nikky_susan', 'namazzing', 'jenifasdiary', 'InkMaitres', 'Akinbode2Tobi', 'Sheilapearel', 'Redimz_', 'MTVBaseAfrica', 'ANITAOLUGHU', 'jazzybayo', '_Bubblebutt1', 'PrincessIjay', 'cheeeomaah', 'Yemisi_K', 'shawttynatt', 'ug_ehumadu', 'moyosibe', 'salaudeensefiu1', 'SoguAyodeji', 'waliuabayomi', 'harhbeesolar', 'Stezzzzzzzz', 'GodPikin_CFR', 'itz_cassbae']"
      ],
      "execution_count": 27,
      "outputs": []
    },
    {
      "cell_type": "code",
      "metadata": {
        "id": "CNmJD-z7Fnqd",
        "colab_type": "code",
        "colab": {}
      },
      "source": [
        "topealabi01 = ['MahoganyHnS', 'rccghq', 'TeniEntertainer', 'realFemiOtedola', 'cobhamsasuquo', 'realDonaldTrump', 'JoelOsteen', 'channelstv', 'SympLySimi', 'mikearemu1', 'IAdefarasin', 'ft_canaanland', 'onosariyo', 'DayoAmusa', 'HenshawKate', 'tkelani', 'funkeakindele', 'NCDCgov', 'AsiwajuTinubu', 'glowreeyah', 'AdaEhiMoses', 'NikkiLaoye', 'eben_rocks', 'sammieokposo', 'timgodfreyworld', 'houseontherock', 'pauladefarasin', 'donmoen', 'TheExperienceLG', 'iamchiomajesus', 'TopeAlabi15', 'NikeAdeyemi', 'sam_adeyemi', 'TravisGreeneTV', 'JekalynCarr', 'nathanielblow', 'tybellotweets', 'MatAshimolowo', 'KemiOlunloyo', 'FemiHamzat', 'drobafemihamzat', 'drmikeokonkwo', 'UBAGroup', 'ZenithBank', 'sinach', 'ayomikuu', 'Buchibwai', 'Midnightcrewng', 'patuwajeking', 'mqmonique', '__debiroo__', 'mikeabdulng', 'FaithOyedepo', 'pastortaiwo', 'DavidOyedepoMin', 'ProfOsinbajo', 'BarackObama', 'yawazobiafm', 'jidesanwoolu', 'AkinwunmiAmbode', 'pastorpoju', 'CNN', 'cnnbrk', 'NigeriainfoFM', 'MahoganyHnS', 'rccghq', 'TeniEntertainer', 'realFemiOtedola', 'cobhamsasuquo', 'realDonaldTrump', 'JoelOsteen', 'channelstv', 'SympLySimi', 'mikearemu1', 'IAdefarasin', 'ft_canaanland', 'onosariyo', 'DayoAmusa', 'HenshawKate', 'tkelani', 'funkeakindele', 'NCDCgov', 'AsiwajuTinubu', 'glowreeyah', 'AdaEhiMoses', 'NikkiLaoye', 'eben_rocks', 'sammieokposo', 'timgodfreyworld', 'houseontherock', 'pauladefarasin', 'donmoen', 'TheExperienceLG', 'iamchiomajesus', 'TopeAlabi15', 'NikeAdeyemi', 'sam_adeyemi', 'TravisGreeneTV', 'JekalynCarr', 'nathanielblow', 'tybellotweets', 'MatAshimolowo', 'KemiOlunloyo', 'FemiHamzat', 'drobafemihamzat', 'drmikeokonkwo', 'UBAGroup', 'ZenithBank', 'sinach', 'ayomikuu', 'Buchibwai', 'Midnightcrewng', 'patuwajeking', 'mqmonique', '__debiroo__', 'mikeabdulng', 'FaithOyedepo', 'pastortaiwo', 'DavidOyedepoMin', 'ProfOsinbajo', 'BarackObama', 'yawazobiafm', 'jidesanwoolu', 'AkinwunmiAmbode', 'pastorpoju', 'CNN', 'cnnbrk', 'NigeriainfoFM']"
      ],
      "execution_count": 28,
      "outputs": []
    },
    {
      "cell_type": "code",
      "metadata": {
        "id": "XG7cuEXZ4IXZ",
        "colab_type": "code",
        "colab": {}
      },
      "source": [
        "channelstv = ['hadisirika', 'thesunnigeria', 'BBCNews', 'AJEnglish', 'seyiamakinde', 'officialKolaO', 'MKKyari', 'ProfAkinAbayomi', 'RotimiAkeredolu', 'dabiodunMFR', 'thecableng', 'LSMOH', 'NigeriaMFA', 'gboyegaakosile', 'Fmohnigeria', 'WHONigeria', 'NCDCgov', 'NGRPresident', 'CTVKaleidoscope', 'CatrionaLaing1', 'DailyMailUK', 'mailandguardian', 'dwnews', 'XHNews', 'WSJ', 'globaltimesnews', 'TIME', 'TechCrunch', 'ChibuikeAmaechi', 'AFP', 'WIRED', 'NewYorker', 'nytimes', 'FAAN_Official', 'FMoCDENigeria', 'sgyemikale', 'akandeoj', 'ICPC_PE', 'FMHDSD', 'neweconforum', 'HouseNGR', 'femigbaja', 'SpeakerGbaja', 'GavelAbuja', 'cenbank', 'nidcom_gov', 'followlastma', 'SPNigeria', 'ChannelsAcademy', 'GEJonathan', 'UNICEF', 'UN', 'SituationRoomNg', 'TrackaNG', 'BBCWorld', 'aledeh', 'nigimmigration', 'KayodeOkikiolu', 'BBCAfrica', 'ChannelsTVPress', 'PoliceNG_CRU', 'atiku', 'jidesanwoolu', 'jimiagbaje', 'FRSCNigeria', 'USinNigeria', 'inecnigeria', 'ctvnewstracker', 'followlasg', 'WorldBankAfrica', 'GuardianNigeria', 'OfficialAPCNg', 'thenff', 'TheChatCTV', 'mitchokonta', 'LadiAAle', 'CTVRoadMap', 'NgComCommission', 'SERAPNigeria', 'JAMBHQ', 'NigeriaGov', 'nassnigeria', 'NNPCgroup', 'Ronkejewels', 'OkeyBakassy', 'TheOtherNewsCTV', 'CTVAFL', 'kduranta', 'OyebisiAdebayo', 'JosephEsenwa', 'AmbroseOkohCTV', 'CTV_TayoS', 'uchealaukwu', 'Holarbowaley', 'BudgITng', 'YNaija', 'GovKaduna', 'ShehuSani', 'kfayemi', 'GarShehu', 'GovAyoFayose', 'nemanigeria', 'NOA_Nigeria', 'ijeomaonyeator', 'realDonaldTrump', 'ladeyemi', 'ievbuomwan', 'newkaypun', 'officialEFCC', 'CTVHardcopy', 'CNNAfrica', 'BJRewane', 'EiENigeria', 'ronke_raji', 'millicentetim', 'OfficialPDPNig', 'mariabyrdctv', 'YemisiIpayeCTV', 'CTV_ceceO', 'coemuze', 'LeadershipNGA', 'daily_trust', 'DailyPostNGR', 'obyezeks', 'TheNationNews', 'headbayo', 'visionaria_01', 'Betty_Dibiah1', 'CTV_MaryA', 'CTVEnvironment', 'dw_environment', 'NGSuperEagles', 'jumiebabs', 'AkinwunmiAmbode', 'Mckbram', 'OfficialMiccolo', 'NGRSenate', 'GimbaUmarCTV', 'KayAlayande', 'taiwoadeshina_', 'ayoolakassim', 'MelindaAkinlami', 'eaopara', 'sunriseCTV', 'channelsbooks', 'PhilipsOlu', 'faceofftoday', 'PoliceNG', 'bukolasaraki', 'ProfOsinbajo', 'AnthoniaOrji', 'CTV_Austin', 'ctv_ilemsc', 'CTV_AbidemiD', 'lucillious', 'Anne_Nwaghodoh', 'MaupeO', 'UKinNigeria', 'SolaMomoh', 'yomi_otaigbe', 'iWitnessCTV', 'MBuhari', 'itempili', 'DefenceInfoNG', 'HQNigerianArmy', 'boasonbusiness', 'joomomoh', 'chrisilems', 'charliediceman', 'CTVpolitics', 'channelstvbiz', 'channels_sports', 'NERCNG', 'ToyinIbitoye', 'Amarachi_Ubani', 'metrofilectv', 'kenochonogor', 'seunokin', 'ChannelsBeam', 'victor_mbidi', 'Channels24_UK', 'datelineabuja', 'llsisi', 'KayodeAkintemi', 'PremiumTimesng', 'inivictoria', 'chamberlainusoh', 'ogechukwuosih', 'nneotaegbe', 'iamshola', 'pmnewsnigeria', 'SaharaReporters', 'MobilePunch', 'vanguardngrnews', 'sunrisedailynow', 'CNN', 'Reuters', 'BBCBreaking', 'cnnbrk', 'hadisirika', 'thesunnigeria', 'BBCNews', 'AJEnglish', 'seyiamakinde', 'officialKolaO', 'MKKyari', 'ProfAkinAbayomi', 'RotimiAkeredolu', 'dabiodunMFR', 'thecableng', 'LSMOH', 'NigeriaMFA', 'gboyegaakosile', 'Fmohnigeria', 'WHONigeria', 'NCDCgov', 'NGRPresident', 'CTVKaleidoscope', 'CatrionaLaing1', 'DailyMailUK', 'mailandguardian', 'dwnews', 'XHNews', 'WSJ', 'globaltimesnews', 'TIME', 'TechCrunch', 'ChibuikeAmaechi', 'AFP', 'WIRED', 'NewYorker', 'nytimes', 'FAAN_Official', 'FMoCDENigeria', 'sgyemikale', 'akandeoj', 'ICPC_PE', 'FMHDSD', 'neweconforum', 'HouseNGR', 'femigbaja', 'SpeakerGbaja', 'GavelAbuja', 'cenbank', 'nidcom_gov', 'followlastma', 'SPNigeria', 'ChannelsAcademy', 'GEJonathan', 'UNICEF', 'UN', 'SituationRoomNg', 'TrackaNG', 'BBCWorld', 'aledeh', 'nigimmigration', 'KayodeOkikiolu', 'BBCAfrica', 'ChannelsTVPress', 'PoliceNG_CRU', 'atiku', 'jidesanwoolu', 'jimiagbaje', 'FRSCNigeria', 'USinNigeria', 'inecnigeria', 'ctvnewstracker', 'followlasg', 'WorldBankAfrica', 'GuardianNigeria', 'OfficialAPCNg', 'thenff', 'TheChatCTV', 'mitchokonta', 'LadiAAle', 'CTVRoadMap', 'NgComCommission', 'SERAPNigeria', 'JAMBHQ', 'NigeriaGov', 'nassnigeria', 'NNPCgroup', 'Ronkejewels', 'OkeyBakassy', 'TheOtherNewsCTV', 'CTVAFL', 'kduranta', 'OyebisiAdebayo', 'JosephEsenwa', 'AmbroseOkohCTV', 'CTV_TayoS', 'uchealaukwu', 'Holarbowaley', 'BudgITng', 'YNaija', 'GovKaduna', 'ShehuSani', 'kfayemi', 'GarShehu']"
      ],
      "execution_count": 29,
      "outputs": []
    },
    {
      "cell_type": "code",
      "metadata": {
        "id": "3h9uvE66F64p",
        "colab_type": "code",
        "colab": {}
      },
      "source": [
        "combined = channelstv + topealabi01 + funkeakindele + RotimiAkeredolu + seyiamakinde + ayosogunro + extracted_newslink + top_govOfficials"
      ],
      "execution_count": 30,
      "outputs": []
    },
    {
      "cell_type": "code",
      "metadata": {
        "id": "PwaR5_MDGByg",
        "colab_type": "code",
        "colab": {
          "base_uri": "https://localhost:8080/",
          "height": 34
        },
        "outputId": "9b225730-7cb9-4526-d6f5-f4dc22ba0b04"
      },
      "source": [
        "len(combined)"
      ],
      "execution_count": 31,
      "outputs": [
        {
          "output_type": "execute_result",
          "data": {
            "text/plain": [
              "1705"
            ]
          },
          "metadata": {
            "tags": []
          },
          "execution_count": 31
        }
      ]
    },
    {
      "cell_type": "code",
      "metadata": {
        "id": "z-POBwFWJEzl",
        "colab_type": "code",
        "colab": {}
      },
      "source": [
        "mylist = list(dict.fromkeys(combined))"
      ],
      "execution_count": 32,
      "outputs": []
    },
    {
      "cell_type": "code",
      "metadata": {
        "id": "PRSHxHGcJJ1T",
        "colab_type": "code",
        "colab": {
          "base_uri": "https://localhost:8080/",
          "height": 34
        },
        "outputId": "122c44e6-2003-4917-81af-00b90846c18a"
      },
      "source": [
        "len(mylist)"
      ],
      "execution_count": 33,
      "outputs": [
        {
          "output_type": "execute_result",
          "data": {
            "text/plain": [
              "1155"
            ]
          },
          "metadata": {
            "tags": []
          },
          "execution_count": 33
        }
      ]
    },
    {
      "cell_type": "code",
      "metadata": {
        "id": "ycNwHpuFf788",
        "colab_type": "code",
        "colab": {}
      },
      "source": [
        "tweets = []\n",
        "    \n",
        "for x in range(0, len(mylist)):\n",
        "\n",
        "    # The Twitter user who we want to get tweets from\n",
        "    name = mylist[x]\n",
        "\n",
        "    # Calling the user_timeline function with our parameters\n",
        "    results = api.user_timeline(id=name, count=500)\n",
        "\n",
        "    # foreach through all tweets pulled\n",
        "    for tweet in results:\n",
        "    # printing the text stored inside the tweet object\n",
        "        tweets.append(tweet.text)\n"
      ],
      "execution_count": null,
      "outputs": []
    },
    {
      "cell_type": "code",
      "metadata": {
        "id": "xT_Ecz2FhyLg",
        "colab_type": "code",
        "colab": {
          "base_uri": "https://localhost:8080/",
          "height": 34
        },
        "outputId": "d66c6946-872c-42e7-eede-392b8ad5539b"
      },
      "source": [
        "len(tweets)"
      ],
      "execution_count": 35,
      "outputs": [
        {
          "output_type": "execute_result",
          "data": {
            "text/plain": [
              "72135"
            ]
          },
          "metadata": {
            "tags": []
          },
          "execution_count": 35
        }
      ]
    },
    {
      "cell_type": "code",
      "metadata": {
        "id": "wV2RBmHsh2NH",
        "colab_type": "code",
        "colab": {
          "base_uri": "https://localhost:8080/",
          "height": 406
        },
        "outputId": "4f658b17-e51d-4668-a240-20b8560dc29d"
      },
      "source": [
        "from pandas import DataFrame\n",
        "df = DataFrame (tweets,columns=['Tweets of Gotten Handles'])\n",
        "df"
      ],
      "execution_count": 36,
      "outputs": [
        {
          "output_type": "execute_result",
          "data": {
            "text/html": [
              "<div>\n",
              "<style scoped>\n",
              "    .dataframe tbody tr th:only-of-type {\n",
              "        vertical-align: middle;\n",
              "    }\n",
              "\n",
              "    .dataframe tbody tr th {\n",
              "        vertical-align: top;\n",
              "    }\n",
              "\n",
              "    .dataframe thead th {\n",
              "        text-align: right;\n",
              "    }\n",
              "</style>\n",
              "<table border=\"1\" class=\"dataframe\">\n",
              "  <thead>\n",
              "    <tr style=\"text-align: right;\">\n",
              "      <th></th>\n",
              "      <th>Tweets of Gotten Handles</th>\n",
              "    </tr>\n",
              "  </thead>\n",
              "  <tbody>\n",
              "    <tr>\n",
              "      <th>0</th>\n",
              "      <td>International Flight resumption date is not Oc...</td>\n",
              "    </tr>\n",
              "    <tr>\n",
              "      <th>1</th>\n",
              "      <td>RT @IATA: #DYK: HEPA filters on planes play an...</td>\n",
              "    </tr>\n",
              "    <tr>\n",
              "      <th>2</th>\n",
              "      <td>My colleagues &amp;amp; I have reviewed passenger ...</td>\n",
              "    </tr>\n",
              "    <tr>\n",
              "      <th>3</th>\n",
              "      <td>🕺🏽🕺🏽🕺🏽 https://t.co/jDsrlHnjmA</td>\n",
              "    </tr>\n",
              "    <tr>\n",
              "      <th>4</th>\n",
              "      <td>Our new normal!🙏🏽🤲🏽🇳🇬 https://t.co/gkqItUD8Vg</td>\n",
              "    </tr>\n",
              "    <tr>\n",
              "      <th>...</th>\n",
              "      <td>...</td>\n",
              "    </tr>\n",
              "    <tr>\n",
              "      <th>72130</th>\n",
              "      <td>JUST IN: Tiger Woods just clinched his fifth M...</td>\n",
              "    </tr>\n",
              "    <tr>\n",
              "      <th>72131</th>\n",
              "      <td>@StellaDamasus stuns at the London premiere of...</td>\n",
              "    </tr>\n",
              "    <tr>\n",
              "      <th>72132</th>\n",
              "      <td>Photos: @StellaDamasus stuns at the London pre...</td>\n",
              "    </tr>\n",
              "    <tr>\n",
              "      <th>72133</th>\n",
              "      <td>Stella Damasus stuns at the London premiere of...</td>\n",
              "    </tr>\n",
              "    <tr>\n",
              "      <th>72134</th>\n",
              "      <td>PUBLIC ANNOUNCEMENT\\n\\nKiln Theatre​, Fuel &amp;am...</td>\n",
              "    </tr>\n",
              "  </tbody>\n",
              "</table>\n",
              "<p>72135 rows × 1 columns</p>\n",
              "</div>"
            ],
            "text/plain": [
              "                                Tweets of Gotten Handles\n",
              "0      International Flight resumption date is not Oc...\n",
              "1      RT @IATA: #DYK: HEPA filters on planes play an...\n",
              "2      My colleagues &amp; I have reviewed passenger ...\n",
              "3                         🕺🏽🕺🏽🕺🏽 https://t.co/jDsrlHnjmA\n",
              "4          Our new normal!🙏🏽🤲🏽🇳🇬 https://t.co/gkqItUD8Vg\n",
              "...                                                  ...\n",
              "72130  JUST IN: Tiger Woods just clinched his fifth M...\n",
              "72131  @StellaDamasus stuns at the London premiere of...\n",
              "72132  Photos: @StellaDamasus stuns at the London pre...\n",
              "72133  Stella Damasus stuns at the London premiere of...\n",
              "72134  PUBLIC ANNOUNCEMENT\\n\\nKiln Theatre​, Fuel &am...\n",
              "\n",
              "[72135 rows x 1 columns]"
            ]
          },
          "metadata": {
            "tags": []
          },
          "execution_count": 36
        }
      ]
    },
    {
      "cell_type": "code",
      "metadata": {
        "id": "mJnhyYqklIaJ",
        "colab_type": "code",
        "colab": {}
      },
      "source": [
        "import csv\n",
        "\n",
        "with open(r'C:\\Users\\Tijesunimi2-PC\\Documents\\10academy_week2_challenge\\tweets.csv', 'w') as myfile:\n",
        "    wr = csv.writer(myfile)\n",
        "    wr.writerow(tweets)"
      ],
      "execution_count": 56,
      "outputs": []
    }
  ]
}